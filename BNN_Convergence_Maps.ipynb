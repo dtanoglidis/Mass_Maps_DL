{
  "nbformat": 4,
  "nbformat_minor": 0,
  "metadata": {
    "colab": {
      "provenance": [],
      "machine_shape": "hm",
      "gpuType": "T4"
    },
    "kernelspec": {
      "name": "python3",
      "display_name": "Python 3"
    },
    "language_info": {
      "name": "python"
    },
    "accelerator": "GPU",
    "gpuClass": "standard"
  },
  "cells": [
    {
      "cell_type": "markdown",
      "source": [
        "## **Cosmological Parameter inference from convergence ($\\kappa$) maps using BNNs.**\n",
        "\n",
        "In this notebook we train a BNN to predict cosmological parameter constraints  ($\\Omega_m$-$\\sigma_8$) from weak lensing convergence mass maps.\n",
        "\n",
        "Then we save:\n",
        "\n",
        " i) The model weights so further exploration (predictions on test set examples) can be done without having to retrain the model.\n",
        "\n",
        " ii) The predicted posterior distributions (samples) for a test set of 1000 maps, to be passed in a different notebook for calibration plot creation, comparison with NPE etc."
      ],
      "metadata": {
        "id": "qejWFxRmFxn7"
      }
    },
    {
      "cell_type": "code",
      "source": [
        "# First install the packages below. It will be good to restart the runtime after installing.\n",
        "\n",
        "#!apt-get update\n",
        "#!sudo apt-get install texlive-latex-recommended \n",
        "#!sudo apt install texlive-latex-extra\n",
        "#!sudo apt install dvipng\n",
        "#!apt install cm-super\n",
        "#!pip install chainconsumer"
      ],
      "metadata": {
        "id": "F6kFmgqeF0D3"
      },
      "execution_count": 2,
      "outputs": []
    },
    {
      "cell_type": "code",
      "source": [
        "# Import basic packages\n",
        "import numpy as np\n",
        "import scipy as sp\n",
        "import pandas as pd\n",
        "\n",
        "\n",
        "# Colab in order to download files\n",
        "from google.colab import files\n",
        "\n",
        "# Scikit-learn for scaling and preprocessing\n",
        "from sklearn.preprocessing import StandardScaler\n",
        "from sklearn.preprocessing import MinMaxScaler\n",
        "from sklearn.model_selection import train_test_split\n",
        "\n",
        "# Chainconsumer\n",
        "from chainconsumer import ChainConsumer\n",
        "\n",
        "# Matplotlib, seaborn and plot pretty \n",
        "import matplotlib.pyplot as plt\n",
        "import matplotlib.gridspec as gridspec\n",
        "import seaborn as sns\n",
        "%matplotlib inline\n",
        "from matplotlib import rcParams\n",
        "rcParams['font.family'] = 'serif'\n",
        "\n",
        "# Adjust rc parameters to make plots pretty\n",
        "def plot_pretty(dpi=200, fontsize=9):\n",
        "    \n",
        "\n",
        "    plt.rc(\"savefig\", dpi=dpi)       # dpi resolution of saved image files\n",
        "    plt.rc('text', usetex=True)      # use LaTeX to process labels\n",
        "    plt.rc('font', size=fontsize)    # fontsize\n",
        "    plt.rc('xtick', direction='in')  # make axes ticks point inward\n",
        "    plt.rc('ytick', direction='in')\n",
        "    plt.rc('xtick.major', pad=10) \n",
        "    plt.rc('xtick.minor', pad=5)\n",
        "    plt.rc('ytick.major', pad=10) \n",
        "    plt.rc('ytick.minor', pad=5)\n",
        "    plt.rc('lines', dotted_pattern = [0.5, 1.1]) # fix dotted lines\n",
        "\n",
        "    return\n",
        "\n",
        "plot_pretty()\n",
        "\n",
        "# Pillow\n",
        "from PIL import Image"
      ],
      "metadata": {
        "id": "-ZbWJIW6F0NI"
      },
      "execution_count": 3,
      "outputs": []
    },
    {
      "cell_type": "markdown",
      "source": [
        "**Import TensorFlow, TensorFlow Probability, Keras**"
      ],
      "metadata": {
        "id": "05V-lHbkF0S5"
      }
    },
    {
      "cell_type": "code",
      "source": [
        "# Tensorflow and Keras\n",
        "import tensorflow as tf\n",
        "import tensorflow_probability as tfp\n",
        "\n",
        "\n",
        "from tensorflow import keras \n",
        "from tensorflow.keras import regularizers\n",
        "from tensorflow.keras import optimizers\n",
        "# Keras Layers\n",
        "from keras.layers import InputLayer\n",
        "from keras.layers import Conv2D\n",
        "from keras.layers import BatchNormalization\n",
        "from keras.layers import Activation\n",
        "from keras.layers import Dropout\n",
        "from keras.layers import MaxPool2D\n",
        "from keras.layers import Flatten\n",
        "from keras.layers import Dense\n",
        "\n",
        "# Import some layers etc that are useful in the Functional approach\n",
        "from tensorflow.keras.models import Model\n",
        "from tensorflow.keras.layers import Input\n",
        "from tensorflow.keras.layers import LeakyReLU"
      ],
      "metadata": {
        "id": "Nej2NIiSF0bk"
      },
      "execution_count": 4,
      "outputs": []
    },
    {
      "cell_type": "code",
      "source": [
        "# Garbage collector to free up memory\n",
        "import gc"
      ],
      "metadata": {
        "id": "qdZqCcJ5_wqP"
      },
      "execution_count": 5,
      "outputs": []
    },
    {
      "cell_type": "markdown",
      "source": [
        "### **Import Dataset**"
      ],
      "metadata": {
        "id": "8npy8bBJ8KFu"
      }
    },
    {
      "cell_type": "code",
      "source": [
        "# Mount drive to upload the datasets\n",
        "from google.colab import drive\n",
        "drive.mount('/content/drive')"
      ],
      "metadata": {
        "id": "t9X0SCPy8KNQ",
        "colab": {
          "base_uri": "https://localhost:8080/"
        },
        "outputId": "a899770d-669d-4fcd-f0b0-0bf9931279f0"
      },
      "execution_count": 6,
      "outputs": [
        {
          "output_type": "stream",
          "name": "stdout",
          "text": [
            "Mounted at /content/drive\n"
          ]
        }
      ]
    },
    {
      "cell_type": "code",
      "source": [
        "# Paths to the folders where we have saved the data, the images, and the trained models\n",
        "\n",
        "# DATASETS\n",
        "DATA_PATH = '/content/drive/My Drive/Maps_Project/Deliverables_Maps/Datasets/'\n",
        "\n",
        "# PLOTS\n",
        "PLT_PATH = '/content/drive/My Drive/Maps_Project/Deliverables_Maps/Plots/'\n",
        "\n",
        "# SAVED MODELS\n",
        "MODELS_PATH = '/content/drive/My Drive/Maps_Project/Deliverables_Maps/Saved_Models/'"
      ],
      "metadata": {
        "id": "MvisCyjy8KSH"
      },
      "execution_count": 7,
      "outputs": []
    },
    {
      "cell_type": "code",
      "source": [
        "# LOAD MAPS - Change to the dataset you actually want to load\n",
        "\n",
        "# X_maps = np.float64(np.load(DATA_PATH+\"X_maps_Cosmogrid_100k\",mmap_mode='r')) #Cosmogrid, 100k randomly shuffled, without noise \n",
        "X_maps = np.float64(np.load(DATA_PATH+\"X_maps_Cosmogrid_100k_NOISY.npy\",mmap_mode='r')) #Cosmogrid, 100k randomly shuffled, with noise\n",
        "# =============================================================\n",
        "# =============================================================\n",
        "# LOAD LABELS - Change to the dataset you actually want to load \n",
        "y_cosmo = np.float64(np.load(DATA_PATH+\"y_maps_Cosmogrid_100k.npy\")) # These labels are common for noisy and without noise cosmogrid sims"
      ],
      "metadata": {
        "id": "vqZ4shLA8KXT"
      },
      "execution_count": 8,
      "outputs": []
    },
    {
      "cell_type": "markdown",
      "source": [
        "**Print the shape of the data**"
      ],
      "metadata": {
        "id": "MkS_A-wK8Kas"
      }
    },
    {
      "cell_type": "code",
      "source": [
        "print(\"Shape of maps dataset:\", np.shape(X_maps))\n",
        "print(\"Shape of cosmological parameters vector:\", np.shape(y_cosmo))"
      ],
      "metadata": {
        "id": "4vPNBHQJF0lW",
        "colab": {
          "base_uri": "https://localhost:8080/"
        },
        "outputId": "148637e6-892a-4785-bd80-8a7d1ea92eda"
      },
      "execution_count": 9,
      "outputs": [
        {
          "output_type": "stream",
          "name": "stdout",
          "text": [
            "Shape of maps dataset: (100000, 66, 66)\n",
            "Shape of cosmological parameters vector: (100000, 6)\n"
          ]
        }
      ]
    },
    {
      "cell_type": "markdown",
      "source": [
        "### **Split into training, validation, and test sets**\n",
        "\n",
        "If the full dataset is randomized, we can simply slice the full dataset.\n",
        "\n"
      ],
      "metadata": {
        "id": "zdmIGo83F0z1"
      }
    },
    {
      "cell_type": "code",
      "source": [
        "# Keep a number of maps for training, validation, and testing\n",
        "X_train = X_maps[:80000]\n",
        "X_val = X_maps[80000:90000]\n",
        "X_test = X_maps[90000:]\n",
        "\n",
        "# Delete the full, large dataset to free memory\n",
        "del X_maps"
      ],
      "metadata": {
        "id": "fPc2LXgH_toh"
      },
      "execution_count": 10,
      "outputs": []
    },
    {
      "cell_type": "markdown",
      "source": [
        "For **Cosmogrid**, the order of cosmological parameters is:  $\\Omega_m$, $H_0$, $n_s$, $\\sigma_8$, $w_0$.\n",
        "\n",
        "Keep just $\\Omega_m, \\sigma_8$ here.  "
      ],
      "metadata": {
        "id": "RupSHxXO_tv6"
      }
    },
    {
      "cell_type": "code",
      "source": [
        "# Keep just Omega_m and sigma_8\n",
        "y_Omega = y_cosmo[:,0];y_sigma_8 = y_cosmo[:,3]\n",
        "\n",
        "# Labels for two cosmological parameters \n",
        "y_cosmo_2 = np.stack([y_Omega,y_sigma_8],axis=-1)\n",
        "\n",
        "# Split into training, validation, test sets\n",
        "y_train  = y_cosmo_2[:80000]\n",
        "y_val = y_cosmo_2[80000:90000]\n",
        "y_test = y_cosmo_2[90000:]\n",
        "\n",
        "# Delete what we do not need any more\n",
        "del y_cosmo_2, y_cosmo, y_Omega, y_sigma_8"
      ],
      "metadata": {
        "id": "SPJcizG7_t4M"
      },
      "execution_count": 11,
      "outputs": []
    },
    {
      "cell_type": "markdown",
      "source": [
        "### Label preprocessing and standardization\n",
        "\n",
        "Since the labels span different ranges, here we perform a min-max scaling\n",
        "to bring them to a similar range."
      ],
      "metadata": {
        "id": "WxUVVwfrCnIh"
      }
    },
    {
      "cell_type": "code",
      "source": [
        "# Define the scaler\n",
        "scaler = MinMaxScaler()\n",
        "\n",
        "# Fit the scaler \n",
        "scaler.fit(y_train)\n",
        "\n",
        "# Rescale\n",
        "y_train_sc = scaler.transform(y_train)\n",
        "y_val_sc = scaler.transform(y_val)\n",
        "y_test_sc = scaler.transform(y_test)"
      ],
      "metadata": {
        "id": "7A11u5AFCnSa"
      },
      "execution_count": 12,
      "outputs": []
    },
    {
      "cell_type": "markdown",
      "source": [
        "### **Define the Bayesian Neural Network (BNN)**"
      ],
      "metadata": {
        "id": "ij-y1-lXE0Ft"
      }
    },
    {
      "cell_type": "code",
      "source": [
        "# Define basic numbers\n",
        "IMAGE_SHAPE = [66,66,1] # This may change\n",
        "NUM_TRAIN_EXAMPLES = 80000\n",
        "NUM_VAL_EXAMPLES = 10000\n",
        "NUM_TEST_EXAMPLES = 10000\n",
        "NUM_CLASSES = 2"
      ],
      "metadata": {
        "id": "IXvuBarwCnbm"
      },
      "execution_count": 13,
      "outputs": []
    },
    {
      "cell_type": "code",
      "source": [
        "# Define KL divergence\n",
        "tfd = tfp.distributions\n",
        "\n",
        "# KL divergence weighted by the number of training samples, using\n",
        "# lambda function to pass as input to the kernel_divergence_fn on\n",
        "# flipout layers.\n",
        "kl_divergence_function = (lambda q, p, _: tfd.kl_divergence(q, p) /  # pylint: disable=g-long-lambda\n",
        "                           tf.cast(NUM_TRAIN_EXAMPLES, dtype=tf.float32))"
      ],
      "metadata": {
        "id": "2QvM18rwCnia"
      },
      "execution_count": 14,
      "outputs": []
    },
    {
      "cell_type": "code",
      "source": [
        "#Clears session when running this cell\n",
        "tf.keras.backend.clear_session()\n",
        "\n",
        "# Alpha for LeakyRelu\n",
        "al_rel = 0.05\n",
        "reg_str = 0.0001 #Apply a regularization\n",
        "\n",
        "\n",
        "# Bayesian model in functional form\n",
        "\n",
        "# Model input - **CHANGE INPUT SHAPE IF USING DIFFERENT DATASET**\n",
        "model_input = Input(shape=(66,66,1))\n",
        "\n",
        "\n",
        "# Convolutional part =================\n",
        "# 1st convolutional chunk \n",
        "x = tfp.layers.Convolution2DFlipout(\n",
        "          filters = 12, \n",
        "          kernel_size=(4,4),\n",
        "          padding='valid',\n",
        "          kernel_divergence_fn=kl_divergence_function)(model_input)\n",
        "x = LeakyReLU(alpha=al_rel)(x)\n",
        "x = keras.layers.MaxPool2D(pool_size=(2, 2),\n",
        "                               strides=None,\n",
        "                               padding='valid')(x)\n",
        "\n",
        "\n",
        "# 2nd convolutional chunk \n",
        "x = tfp.layers.Convolution2DFlipout(\n",
        "          filters = 2*12, \n",
        "          kernel_size=(4,4),\n",
        "          padding='valid',\n",
        "          kernel_divergence_fn=kl_divergence_function)(model_input)\n",
        "x = LeakyReLU(alpha=al_rel)(x)\n",
        "x = keras.layers.MaxPool2D(pool_size=(2, 2),\n",
        "                               strides=None,\n",
        "                               padding='valid')(x)\n",
        "\n",
        "# 3rd convolutional chunk \n",
        "x = tfp.layers.Convolution2DFlipout(\n",
        "          filters = 4*12, \n",
        "          kernel_size=(3,3),\n",
        "          padding='valid',\n",
        "          kernel_divergence_fn=kl_divergence_function)(model_input)\n",
        "x = LeakyReLU(alpha=al_rel)(x)\n",
        "x = keras.layers.MaxPool2D(pool_size=(2, 2),\n",
        "                               strides=None,\n",
        "                               padding='valid')(x)\n",
        "\n",
        "# =========================================\n",
        "x = keras.layers.Flatten()(x)\n",
        "# =========================================\n",
        "# =========================================\n",
        "\n",
        "x = tfp.layers.DenseFlipout(units = 128, \n",
        "          kernel_divergence_fn=kl_divergence_function)(x)\n",
        "x = keras.layers.LeakyReLU(alpha=al_rel)(x)\n",
        "x = tfp.layers.DenseFlipout(units = 64, \n",
        "          kernel_divergence_fn=kl_divergence_function)(x)\n",
        "x = keras.layers.LeakyReLU(alpha=al_rel)(x)\n",
        "x = tfp.layers.DenseFlipout(units = 32,\n",
        "          kernel_divergence_fn=kl_divergence_function)(x)\n",
        "x = keras.layers.LeakyReLU(alpha=al_rel)(x)\n",
        "\n",
        "\n",
        "distribution_params = keras.layers.Dense(tfp.layers.MultivariateNormalTriL.params_size(2))(x)\n",
        "model_output = tfp.layers.MultivariateNormalTriL(event_size=2)(distribution_params)\n",
        "model = Model(model_input, model_output)"
      ],
      "metadata": {
        "id": "HmFsUzo0EwYQ",
        "colab": {
          "base_uri": "https://localhost:8080/"
        },
        "outputId": "957654fa-70d6-4038-dfc1-7351568edc2f"
      },
      "execution_count": 15,
      "outputs": [
        {
          "output_type": "stream",
          "name": "stderr",
          "text": [
            "/usr/local/lib/python3.10/dist-packages/tensorflow_probability/python/layers/util.py:95: UserWarning: `layer.add_variable` is deprecated and will be removed in a future version. Please use the `layer.add_weight()` method instead.\n",
            "  loc = add_variable_fn(\n",
            "/usr/local/lib/python3.10/dist-packages/tensorflow_probability/python/layers/util.py:105: UserWarning: `layer.add_variable` is deprecated and will be removed in a future version. Please use the `layer.add_weight()` method instead.\n",
            "  untransformed_scale = add_variable_fn(\n"
          ]
        }
      ]
    },
    {
      "cell_type": "code",
      "source": [
        "# Define the optimizer \n",
        "optimizer=tf.keras.optimizers.Adadelta(learning_rate=0.1,rho=0.9,epsilon=1e-07)\n",
        "\n",
        "# Define loss\n",
        "def negloglik(y_true, y_pred):    \n",
        "    return -tf.reduce_mean(y_pred.log_prob(y_true))\n",
        "\n",
        "\n",
        "# Compile the model\n",
        "model.compile(optimizer,\n",
        "              loss=negloglik,\n",
        "              metrics=['mae'],experimental_run_tf_function=False)"
      ],
      "metadata": {
        "id": "0iHD7TOSEwj-"
      },
      "execution_count": 16,
      "outputs": []
    },
    {
      "cell_type": "markdown",
      "source": [
        "**Train the model**"
      ],
      "metadata": {
        "id": "EtHwZ73OGsRz"
      }
    },
    {
      "cell_type": "code",
      "source": [
        "EPOCHS = 160\n",
        "\n",
        "model.fit(x=X_train, y=y_train_sc,\n",
        "          epochs=EPOCHS,\n",
        "          batch_size=128,\n",
        "          shuffle=True,\n",
        "          validation_data=(X_val,y_val_sc))"
      ],
      "metadata": {
        "id": "Fs2gh16qEwsd",
        "colab": {
          "base_uri": "https://localhost:8080/"
        },
        "outputId": "77518e25-e8bb-4168-fea7-b85a527fa624"
      },
      "execution_count": 17,
      "outputs": [
        {
          "output_type": "stream",
          "name": "stdout",
          "text": [
            "Epoch 1/160\n",
            "625/625 [==============================] - 39s 41ms/step - loss: 200.3854 - mae: 0.4494 - val_loss: 199.4910 - val_mae: 0.3400\n",
            "Epoch 2/160\n",
            "625/625 [==============================] - 21s 33ms/step - loss: 199.3128 - mae: 0.3234 - val_loss: 199.2266 - val_mae: 0.3125\n",
            "Epoch 3/160\n",
            "625/625 [==============================] - 21s 33ms/step - loss: 199.1555 - mae: 0.3103 - val_loss: 199.0959 - val_mae: 0.3063\n",
            "Epoch 4/160\n",
            "625/625 [==============================] - 21s 34ms/step - loss: 199.0468 - mae: 0.3047 - val_loss: 198.9996 - val_mae: 0.3015\n",
            "Epoch 5/160\n",
            "625/625 [==============================] - 21s 33ms/step - loss: 198.9386 - mae: 0.3020 - val_loss: 198.8816 - val_mae: 0.3013\n",
            "Epoch 6/160\n",
            "625/625 [==============================] - 21s 33ms/step - loss: 198.8114 - mae: 0.2972 - val_loss: 198.7198 - val_mae: 0.2947\n",
            "Epoch 7/160\n",
            "625/625 [==============================] - 21s 33ms/step - loss: 198.6312 - mae: 0.2924 - val_loss: 198.5091 - val_mae: 0.2921\n",
            "Epoch 8/160\n",
            "625/625 [==============================] - 21s 33ms/step - loss: 198.4200 - mae: 0.2881 - val_loss: 198.2886 - val_mae: 0.2846\n",
            "Epoch 9/160\n",
            "625/625 [==============================] - 21s 33ms/step - loss: 198.2366 - mae: 0.2843 - val_loss: 198.1320 - val_mae: 0.2783\n",
            "Epoch 10/160\n",
            "625/625 [==============================] - 21s 33ms/step - loss: 198.1073 - mae: 0.2818 - val_loss: 198.0472 - val_mae: 0.2769\n",
            "Epoch 11/160\n",
            "625/625 [==============================] - 21s 33ms/step - loss: 197.9786 - mae: 0.2809 - val_loss: 197.9240 - val_mae: 0.2824\n",
            "Epoch 12/160\n",
            "625/625 [==============================] - 21s 33ms/step - loss: 197.8686 - mae: 0.2778 - val_loss: 197.8087 - val_mae: 0.2760\n",
            "Epoch 13/160\n",
            "625/625 [==============================] - 21s 33ms/step - loss: 197.7608 - mae: 0.2751 - val_loss: 197.6817 - val_mae: 0.2689\n",
            "Epoch 14/160\n",
            "625/625 [==============================] - 21s 33ms/step - loss: 197.6539 - mae: 0.2723 - val_loss: 197.5804 - val_mae: 0.2737\n",
            "Epoch 15/160\n",
            "625/625 [==============================] - 21s 33ms/step - loss: 197.5542 - mae: 0.2700 - val_loss: 197.5329 - val_mae: 0.2689\n",
            "Epoch 16/160\n",
            "625/625 [==============================] - 21s 33ms/step - loss: 197.4726 - mae: 0.2695 - val_loss: 197.3960 - val_mae: 0.2659\n",
            "Epoch 17/160\n",
            "625/625 [==============================] - 21s 34ms/step - loss: 197.3821 - mae: 0.2677 - val_loss: 197.3038 - val_mae: 0.2672\n",
            "Epoch 18/160\n",
            "625/625 [==============================] - 21s 34ms/step - loss: 197.2956 - mae: 0.2659 - val_loss: 197.2711 - val_mae: 0.2645\n",
            "Epoch 19/160\n",
            "625/625 [==============================] - 21s 33ms/step - loss: 197.2141 - mae: 0.2654 - val_loss: 197.1754 - val_mae: 0.2637\n",
            "Epoch 20/160\n",
            "625/625 [==============================] - 21s 33ms/step - loss: 197.1335 - mae: 0.2644 - val_loss: 197.0689 - val_mae: 0.2624\n",
            "Epoch 21/160\n",
            "625/625 [==============================] - 21s 33ms/step - loss: 197.0578 - mae: 0.2643 - val_loss: 196.9857 - val_mae: 0.2590\n",
            "Epoch 22/160\n",
            "625/625 [==============================] - 21s 33ms/step - loss: 196.9770 - mae: 0.2630 - val_loss: 196.9477 - val_mae: 0.2647\n",
            "Epoch 23/160\n",
            "625/625 [==============================] - 21s 34ms/step - loss: 196.9033 - mae: 0.2629 - val_loss: 196.8319 - val_mae: 0.2591\n",
            "Epoch 24/160\n",
            "625/625 [==============================] - 21s 34ms/step - loss: 196.8277 - mae: 0.2612 - val_loss: 196.7939 - val_mae: 0.2588\n",
            "Epoch 25/160\n",
            "625/625 [==============================] - 21s 34ms/step - loss: 196.7563 - mae: 0.2606 - val_loss: 196.6967 - val_mae: 0.2594\n",
            "Epoch 26/160\n",
            "625/625 [==============================] - 21s 34ms/step - loss: 196.6863 - mae: 0.2596 - val_loss: 196.6206 - val_mae: 0.2608\n",
            "Epoch 27/160\n",
            "625/625 [==============================] - 21s 34ms/step - loss: 196.6097 - mae: 0.2585 - val_loss: 196.5498 - val_mae: 0.2572\n",
            "Epoch 28/160\n",
            "625/625 [==============================] - 21s 33ms/step - loss: 196.5384 - mae: 0.2583 - val_loss: 196.4848 - val_mae: 0.2575\n",
            "Epoch 29/160\n",
            "625/625 [==============================] - 21s 33ms/step - loss: 196.4724 - mae: 0.2586 - val_loss: 196.4109 - val_mae: 0.2604\n",
            "Epoch 30/160\n",
            "625/625 [==============================] - 21s 33ms/step - loss: 196.3982 - mae: 0.2571 - val_loss: 196.3481 - val_mae: 0.2571\n",
            "Epoch 31/160\n",
            "625/625 [==============================] - 21s 33ms/step - loss: 196.3339 - mae: 0.2566 - val_loss: 196.2896 - val_mae: 0.2591\n",
            "Epoch 32/160\n",
            "625/625 [==============================] - 21s 33ms/step - loss: 196.2687 - mae: 0.2571 - val_loss: 196.2340 - val_mae: 0.2537\n",
            "Epoch 33/160\n",
            "625/625 [==============================] - 21s 33ms/step - loss: 196.1988 - mae: 0.2559 - val_loss: 196.1516 - val_mae: 0.2551\n",
            "Epoch 34/160\n",
            "625/625 [==============================] - 21s 33ms/step - loss: 196.1326 - mae: 0.2564 - val_loss: 196.0809 - val_mae: 0.2533\n",
            "Epoch 35/160\n",
            "625/625 [==============================] - 21s 33ms/step - loss: 196.0636 - mae: 0.2558 - val_loss: 196.0210 - val_mae: 0.2545\n",
            "Epoch 36/160\n",
            "625/625 [==============================] - 21s 33ms/step - loss: 195.9946 - mae: 0.2549 - val_loss: 195.9639 - val_mae: 0.2528\n",
            "Epoch 37/160\n",
            "625/625 [==============================] - 21s 33ms/step - loss: 195.9321 - mae: 0.2547 - val_loss: 195.8798 - val_mae: 0.2525\n",
            "Epoch 38/160\n",
            "625/625 [==============================] - 21s 33ms/step - loss: 195.8630 - mae: 0.2534 - val_loss: 195.8508 - val_mae: 0.2554\n",
            "Epoch 39/160\n",
            "625/625 [==============================] - 21s 33ms/step - loss: 195.8010 - mae: 0.2529 - val_loss: 195.7561 - val_mae: 0.2540\n",
            "Epoch 40/160\n",
            "625/625 [==============================] - 21s 33ms/step - loss: 195.7305 - mae: 0.2529 - val_loss: 195.7299 - val_mae: 0.2492\n",
            "Epoch 41/160\n",
            "625/625 [==============================] - 21s 33ms/step - loss: 195.6676 - mae: 0.2510 - val_loss: 195.6285 - val_mae: 0.2500\n",
            "Epoch 42/160\n",
            "625/625 [==============================] - 21s 33ms/step - loss: 195.6038 - mae: 0.2524 - val_loss: 195.5648 - val_mae: 0.2502\n",
            "Epoch 43/160\n",
            "625/625 [==============================] - 21s 33ms/step - loss: 195.5336 - mae: 0.2510 - val_loss: 195.5063 - val_mae: 0.2506\n",
            "Epoch 44/160\n",
            "625/625 [==============================] - 21s 33ms/step - loss: 195.4660 - mae: 0.2505 - val_loss: 195.4448 - val_mae: 0.2488\n",
            "Epoch 45/160\n",
            "625/625 [==============================] - 21s 33ms/step - loss: 195.3999 - mae: 0.2493 - val_loss: 195.3588 - val_mae: 0.2471\n",
            "Epoch 46/160\n",
            "625/625 [==============================] - 21s 33ms/step - loss: 195.3352 - mae: 0.2467 - val_loss: 195.2932 - val_mae: 0.2475\n",
            "Epoch 47/160\n",
            "625/625 [==============================] - 21s 33ms/step - loss: 195.2608 - mae: 0.2469 - val_loss: 195.2067 - val_mae: 0.2417\n",
            "Epoch 48/160\n",
            "625/625 [==============================] - 21s 33ms/step - loss: 195.1817 - mae: 0.2429 - val_loss: 195.1276 - val_mae: 0.2434\n",
            "Epoch 49/160\n",
            "625/625 [==============================] - 21s 33ms/step - loss: 195.1015 - mae: 0.2409 - val_loss: 195.0596 - val_mae: 0.2368\n",
            "Epoch 50/160\n",
            "625/625 [==============================] - 21s 33ms/step - loss: 195.0108 - mae: 0.2363 - val_loss: 194.9736 - val_mae: 0.2342\n",
            "Epoch 51/160\n",
            "625/625 [==============================] - 21s 33ms/step - loss: 194.9156 - mae: 0.2314 - val_loss: 194.9087 - val_mae: 0.2264\n",
            "Epoch 52/160\n",
            "625/625 [==============================] - 21s 33ms/step - loss: 194.8234 - mae: 0.2265 - val_loss: 194.7858 - val_mae: 0.2267\n",
            "Epoch 53/160\n",
            "625/625 [==============================] - 21s 34ms/step - loss: 194.7227 - mae: 0.2204 - val_loss: 194.6937 - val_mae: 0.2191\n",
            "Epoch 54/160\n",
            "625/625 [==============================] - 21s 33ms/step - loss: 194.6264 - mae: 0.2170 - val_loss: 194.5816 - val_mae: 0.2173\n",
            "Epoch 55/160\n",
            "625/625 [==============================] - 21s 33ms/step - loss: 194.5273 - mae: 0.2126 - val_loss: 194.5643 - val_mae: 0.2092\n",
            "Epoch 56/160\n",
            "625/625 [==============================] - 21s 33ms/step - loss: 194.4211 - mae: 0.2071 - val_loss: 194.4076 - val_mae: 0.2043\n",
            "Epoch 57/160\n",
            "625/625 [==============================] - 21s 33ms/step - loss: 194.3214 - mae: 0.2025 - val_loss: 194.3553 - val_mae: 0.1993\n",
            "Epoch 58/160\n",
            "625/625 [==============================] - 21s 33ms/step - loss: 194.2319 - mae: 0.1990 - val_loss: 194.1987 - val_mae: 0.1991\n",
            "Epoch 59/160\n",
            "625/625 [==============================] - 21s 33ms/step - loss: 194.1397 - mae: 0.1940 - val_loss: 194.1634 - val_mae: 0.1921\n",
            "Epoch 60/160\n",
            "625/625 [==============================] - 21s 33ms/step - loss: 194.0429 - mae: 0.1909 - val_loss: 194.0427 - val_mae: 0.1901\n",
            "Epoch 61/160\n",
            "625/625 [==============================] - 21s 33ms/step - loss: 193.9615 - mae: 0.1874 - val_loss: 194.0264 - val_mae: 0.1902\n",
            "Epoch 62/160\n",
            "625/625 [==============================] - 21s 33ms/step - loss: 193.8741 - mae: 0.1853 - val_loss: 193.8436 - val_mae: 0.1833\n",
            "Epoch 63/160\n",
            "625/625 [==============================] - 21s 33ms/step - loss: 193.7889 - mae: 0.1819 - val_loss: 193.9021 - val_mae: 0.1825\n",
            "Epoch 64/160\n",
            "625/625 [==============================] - 21s 33ms/step - loss: 193.7132 - mae: 0.1793 - val_loss: 193.7151 - val_mae: 0.1783\n",
            "Epoch 65/160\n",
            "625/625 [==============================] - 21s 33ms/step - loss: 193.6220 - mae: 0.1770 - val_loss: 193.7083 - val_mae: 0.1797\n",
            "Epoch 66/160\n",
            "625/625 [==============================] - 21s 33ms/step - loss: 193.5443 - mae: 0.1744 - val_loss: 193.6306 - val_mae: 0.1809\n",
            "Epoch 67/160\n",
            "625/625 [==============================] - 21s 33ms/step - loss: 193.4612 - mae: 0.1716 - val_loss: 193.5698 - val_mae: 0.1784\n",
            "Epoch 68/160\n",
            "625/625 [==============================] - 21s 33ms/step - loss: 193.3863 - mae: 0.1709 - val_loss: 193.4566 - val_mae: 0.1720\n",
            "Epoch 69/160\n",
            "625/625 [==============================] - 21s 33ms/step - loss: 193.3041 - mae: 0.1682 - val_loss: 193.3285 - val_mae: 0.1672\n",
            "Epoch 70/160\n",
            "625/625 [==============================] - 21s 33ms/step - loss: 193.2223 - mae: 0.1648 - val_loss: 193.2371 - val_mae: 0.1664\n",
            "Epoch 71/160\n",
            "625/625 [==============================] - 21s 33ms/step - loss: 193.1457 - mae: 0.1641 - val_loss: 193.1918 - val_mae: 0.1681\n",
            "Epoch 72/160\n",
            "625/625 [==============================] - 21s 33ms/step - loss: 193.0647 - mae: 0.1620 - val_loss: 193.2190 - val_mae: 0.1657\n",
            "Epoch 73/160\n",
            "625/625 [==============================] - 21s 33ms/step - loss: 192.9915 - mae: 0.1606 - val_loss: 193.0455 - val_mae: 0.1641\n",
            "Epoch 74/160\n",
            "625/625 [==============================] - 21s 33ms/step - loss: 192.9129 - mae: 0.1587 - val_loss: 192.9516 - val_mae: 0.1620\n",
            "Epoch 75/160\n",
            "625/625 [==============================] - 21s 33ms/step - loss: 192.8447 - mae: 0.1576 - val_loss: 192.8772 - val_mae: 0.1583\n",
            "Epoch 76/160\n",
            "625/625 [==============================] - 21s 33ms/step - loss: 192.7765 - mae: 0.1573 - val_loss: 192.8196 - val_mae: 0.1578\n",
            "Epoch 77/160\n",
            "625/625 [==============================] - 21s 33ms/step - loss: 192.6957 - mae: 0.1555 - val_loss: 192.7405 - val_mae: 0.1563\n",
            "Epoch 78/160\n",
            "625/625 [==============================] - 21s 33ms/step - loss: 192.6243 - mae: 0.1542 - val_loss: 192.6970 - val_mae: 0.1567\n",
            "Epoch 79/160\n",
            "625/625 [==============================] - 21s 33ms/step - loss: 192.5525 - mae: 0.1522 - val_loss: 192.7319 - val_mae: 0.1554\n",
            "Epoch 80/160\n",
            "625/625 [==============================] - 21s 33ms/step - loss: 192.4850 - mae: 0.1520 - val_loss: 192.5557 - val_mae: 0.1547\n",
            "Epoch 81/160\n",
            "625/625 [==============================] - 21s 33ms/step - loss: 192.3979 - mae: 0.1500 - val_loss: 192.4521 - val_mae: 0.1521\n",
            "Epoch 82/160\n",
            "625/625 [==============================] - 21s 33ms/step - loss: 192.3367 - mae: 0.1493 - val_loss: 192.4592 - val_mae: 0.1542\n",
            "Epoch 83/160\n",
            "625/625 [==============================] - 21s 33ms/step - loss: 192.2714 - mae: 0.1491 - val_loss: 192.3299 - val_mae: 0.1516\n",
            "Epoch 84/160\n",
            "625/625 [==============================] - 21s 33ms/step - loss: 192.1990 - mae: 0.1484 - val_loss: 192.3307 - val_mae: 0.1556\n",
            "Epoch 85/160\n",
            "625/625 [==============================] - 21s 33ms/step - loss: 192.1207 - mae: 0.1469 - val_loss: 192.2018 - val_mae: 0.1491\n",
            "Epoch 86/160\n",
            "625/625 [==============================] - 21s 33ms/step - loss: 192.0580 - mae: 0.1459 - val_loss: 192.1291 - val_mae: 0.1492\n",
            "Epoch 87/160\n",
            "625/625 [==============================] - 21s 33ms/step - loss: 191.9903 - mae: 0.1446 - val_loss: 192.0600 - val_mae: 0.1494\n",
            "Epoch 88/160\n",
            "625/625 [==============================] - 21s 33ms/step - loss: 191.9166 - mae: 0.1441 - val_loss: 192.0228 - val_mae: 0.1488\n",
            "Epoch 89/160\n",
            "625/625 [==============================] - 21s 33ms/step - loss: 191.8438 - mae: 0.1432 - val_loss: 191.9103 - val_mae: 0.1458\n",
            "Epoch 90/160\n",
            "625/625 [==============================] - 21s 33ms/step - loss: 191.7766 - mae: 0.1423 - val_loss: 191.8480 - val_mae: 0.1461\n",
            "Epoch 91/160\n",
            "625/625 [==============================] - 21s 33ms/step - loss: 191.7079 - mae: 0.1419 - val_loss: 191.9067 - val_mae: 0.1495\n",
            "Epoch 92/160\n",
            "625/625 [==============================] - 21s 33ms/step - loss: 191.6413 - mae: 0.1407 - val_loss: 191.7588 - val_mae: 0.1446\n",
            "Epoch 93/160\n",
            "625/625 [==============================] - 21s 34ms/step - loss: 191.5698 - mae: 0.1395 - val_loss: 191.6734 - val_mae: 0.1454\n",
            "Epoch 94/160\n",
            "625/625 [==============================] - 21s 33ms/step - loss: 191.4953 - mae: 0.1389 - val_loss: 191.6310 - val_mae: 0.1422\n",
            "Epoch 95/160\n",
            "625/625 [==============================] - 21s 33ms/step - loss: 191.4311 - mae: 0.1381 - val_loss: 191.5894 - val_mae: 0.1412\n",
            "Epoch 96/160\n",
            "625/625 [==============================] - 21s 33ms/step - loss: 191.3666 - mae: 0.1381 - val_loss: 191.4836 - val_mae: 0.1437\n",
            "Epoch 97/160\n",
            "625/625 [==============================] - 21s 33ms/step - loss: 191.3040 - mae: 0.1379 - val_loss: 191.4092 - val_mae: 0.1416\n",
            "Epoch 98/160\n",
            "625/625 [==============================] - 21s 33ms/step - loss: 191.2261 - mae: 0.1360 - val_loss: 191.4365 - val_mae: 0.1417\n",
            "Epoch 99/160\n",
            "625/625 [==============================] - 21s 33ms/step - loss: 191.1563 - mae: 0.1356 - val_loss: 191.3093 - val_mae: 0.1405\n",
            "Epoch 100/160\n",
            "625/625 [==============================] - 21s 33ms/step - loss: 191.0942 - mae: 0.1354 - val_loss: 191.2501 - val_mae: 0.1405\n",
            "Epoch 101/160\n",
            "625/625 [==============================] - 21s 33ms/step - loss: 191.0352 - mae: 0.1344 - val_loss: 191.1728 - val_mae: 0.1394\n",
            "Epoch 102/160\n",
            "625/625 [==============================] - 21s 34ms/step - loss: 190.9531 - mae: 0.1328 - val_loss: 191.2146 - val_mae: 0.1448\n",
            "Epoch 103/160\n",
            "625/625 [==============================] - 21s 34ms/step - loss: 190.8940 - mae: 0.1333 - val_loss: 191.0328 - val_mae: 0.1395\n",
            "Epoch 104/160\n",
            "625/625 [==============================] - 21s 33ms/step - loss: 190.8221 - mae: 0.1320 - val_loss: 190.9885 - val_mae: 0.1391\n",
            "Epoch 105/160\n",
            "625/625 [==============================] - 21s 33ms/step - loss: 190.7528 - mae: 0.1315 - val_loss: 190.9299 - val_mae: 0.1364\n",
            "Epoch 106/160\n",
            "625/625 [==============================] - 21s 33ms/step - loss: 190.6883 - mae: 0.1304 - val_loss: 191.0336 - val_mae: 0.1433\n",
            "Epoch 107/160\n",
            "625/625 [==============================] - 21s 33ms/step - loss: 190.6230 - mae: 0.1299 - val_loss: 190.7948 - val_mae: 0.1376\n",
            "Epoch 108/160\n",
            "625/625 [==============================] - 21s 33ms/step - loss: 190.5557 - mae: 0.1308 - val_loss: 190.7745 - val_mae: 0.1356\n",
            "Epoch 109/160\n",
            "625/625 [==============================] - 21s 33ms/step - loss: 190.4905 - mae: 0.1297 - val_loss: 190.6845 - val_mae: 0.1343\n",
            "Epoch 110/160\n",
            "625/625 [==============================] - 21s 33ms/step - loss: 190.4171 - mae: 0.1282 - val_loss: 190.6712 - val_mae: 0.1382\n",
            "Epoch 111/160\n",
            "625/625 [==============================] - 21s 33ms/step - loss: 190.3531 - mae: 0.1281 - val_loss: 190.6750 - val_mae: 0.1381\n",
            "Epoch 112/160\n",
            "625/625 [==============================] - 21s 33ms/step - loss: 190.2931 - mae: 0.1277 - val_loss: 190.5273 - val_mae: 0.1343\n",
            "Epoch 113/160\n",
            "625/625 [==============================] - 21s 33ms/step - loss: 190.2213 - mae: 0.1267 - val_loss: 190.4476 - val_mae: 0.1354\n",
            "Epoch 114/160\n",
            "625/625 [==============================] - 21s 33ms/step - loss: 190.1553 - mae: 0.1260 - val_loss: 190.3795 - val_mae: 0.1345\n",
            "Epoch 115/160\n",
            "625/625 [==============================] - 21s 33ms/step - loss: 190.0934 - mae: 0.1257 - val_loss: 190.2934 - val_mae: 0.1334\n",
            "Epoch 116/160\n",
            "625/625 [==============================] - 21s 33ms/step - loss: 190.0283 - mae: 0.1254 - val_loss: 190.2981 - val_mae: 0.1345\n",
            "Epoch 117/160\n",
            "625/625 [==============================] - 21s 33ms/step - loss: 189.9610 - mae: 0.1255 - val_loss: 190.2383 - val_mae: 0.1335\n",
            "Epoch 118/160\n",
            "625/625 [==============================] - 21s 33ms/step - loss: 189.9028 - mae: 0.1246 - val_loss: 190.1232 - val_mae: 0.1316\n",
            "Epoch 119/160\n",
            "625/625 [==============================] - 21s 33ms/step - loss: 189.8349 - mae: 0.1242 - val_loss: 190.0798 - val_mae: 0.1314\n",
            "Epoch 120/160\n",
            "625/625 [==============================] - 21s 33ms/step - loss: 189.7614 - mae: 0.1236 - val_loss: 190.0061 - val_mae: 0.1303\n",
            "Epoch 121/160\n",
            "625/625 [==============================] - 21s 33ms/step - loss: 189.6918 - mae: 0.1224 - val_loss: 190.1221 - val_mae: 0.1358\n",
            "Epoch 122/160\n",
            "625/625 [==============================] - 21s 33ms/step - loss: 189.6286 - mae: 0.1223 - val_loss: 189.8685 - val_mae: 0.1297\n",
            "Epoch 123/160\n",
            "625/625 [==============================] - 21s 33ms/step - loss: 189.5622 - mae: 0.1212 - val_loss: 189.8118 - val_mae: 0.1291\n",
            "Epoch 124/160\n",
            "625/625 [==============================] - 21s 33ms/step - loss: 189.4987 - mae: 0.1217 - val_loss: 189.8963 - val_mae: 0.1345\n",
            "Epoch 125/160\n",
            "625/625 [==============================] - 21s 33ms/step - loss: 189.4367 - mae: 0.1214 - val_loss: 189.6987 - val_mae: 0.1312\n",
            "Epoch 126/160\n",
            "625/625 [==============================] - 21s 33ms/step - loss: 189.3716 - mae: 0.1210 - val_loss: 189.6147 - val_mae: 0.1272\n",
            "Epoch 127/160\n",
            "625/625 [==============================] - 21s 33ms/step - loss: 189.2993 - mae: 0.1198 - val_loss: 189.5606 - val_mae: 0.1281\n",
            "Epoch 128/160\n",
            "625/625 [==============================] - 21s 33ms/step - loss: 189.2322 - mae: 0.1187 - val_loss: 189.5572 - val_mae: 0.1297\n",
            "Epoch 129/160\n",
            "625/625 [==============================] - 21s 33ms/step - loss: 189.1773 - mae: 0.1195 - val_loss: 189.5062 - val_mae: 0.1305\n",
            "Epoch 130/160\n",
            "625/625 [==============================] - 21s 33ms/step - loss: 189.1126 - mae: 0.1190 - val_loss: 189.5513 - val_mae: 0.1332\n",
            "Epoch 131/160\n",
            "625/625 [==============================] - 21s 33ms/step - loss: 189.0498 - mae: 0.1189 - val_loss: 189.3663 - val_mae: 0.1281\n",
            "Epoch 132/160\n",
            "625/625 [==============================] - 21s 33ms/step - loss: 188.9795 - mae: 0.1186 - val_loss: 189.3365 - val_mae: 0.1292\n",
            "Epoch 133/160\n",
            "625/625 [==============================] - 21s 33ms/step - loss: 188.9126 - mae: 0.1162 - val_loss: 189.3017 - val_mae: 0.1294\n",
            "Epoch 134/160\n",
            "625/625 [==============================] - 21s 33ms/step - loss: 188.8506 - mae: 0.1169 - val_loss: 189.2015 - val_mae: 0.1277\n",
            "Epoch 135/160\n",
            "625/625 [==============================] - 21s 33ms/step - loss: 188.7890 - mae: 0.1162 - val_loss: 189.1174 - val_mae: 0.1250\n",
            "Epoch 136/160\n",
            "625/625 [==============================] - 21s 33ms/step - loss: 188.7243 - mae: 0.1162 - val_loss: 189.0654 - val_mae: 0.1274\n",
            "Epoch 137/160\n",
            "625/625 [==============================] - 21s 33ms/step - loss: 188.6552 - mae: 0.1152 - val_loss: 188.9981 - val_mae: 0.1269\n",
            "Epoch 138/160\n",
            "625/625 [==============================] - 21s 33ms/step - loss: 188.5941 - mae: 0.1154 - val_loss: 188.9940 - val_mae: 0.1266\n",
            "Epoch 139/160\n",
            "625/625 [==============================] - 21s 33ms/step - loss: 188.5340 - mae: 0.1151 - val_loss: 189.0376 - val_mae: 0.1315\n",
            "Epoch 140/160\n",
            "625/625 [==============================] - 21s 33ms/step - loss: 188.4640 - mae: 0.1145 - val_loss: 188.9075 - val_mae: 0.1254\n",
            "Epoch 141/160\n",
            "625/625 [==============================] - 21s 33ms/step - loss: 188.3996 - mae: 0.1144 - val_loss: 188.8066 - val_mae: 0.1248\n",
            "Epoch 142/160\n",
            "625/625 [==============================] - 21s 33ms/step - loss: 188.3379 - mae: 0.1138 - val_loss: 188.7072 - val_mae: 0.1252\n",
            "Epoch 143/160\n",
            "625/625 [==============================] - 21s 33ms/step - loss: 188.2758 - mae: 0.1135 - val_loss: 188.7108 - val_mae: 0.1270\n",
            "Epoch 144/160\n",
            "625/625 [==============================] - 21s 33ms/step - loss: 188.2080 - mae: 0.1131 - val_loss: 188.6500 - val_mae: 0.1247\n",
            "Epoch 145/160\n",
            "625/625 [==============================] - 21s 33ms/step - loss: 188.1384 - mae: 0.1121 - val_loss: 188.5610 - val_mae: 0.1262\n",
            "Epoch 146/160\n",
            "625/625 [==============================] - 21s 33ms/step - loss: 188.0755 - mae: 0.1119 - val_loss: 188.6345 - val_mae: 0.1247\n",
            "Epoch 147/160\n",
            "625/625 [==============================] - 21s 33ms/step - loss: 188.0195 - mae: 0.1120 - val_loss: 188.4496 - val_mae: 0.1243\n",
            "Epoch 148/160\n",
            "625/625 [==============================] - 21s 33ms/step - loss: 187.9555 - mae: 0.1118 - val_loss: 188.3764 - val_mae: 0.1244\n",
            "Epoch 149/160\n",
            "625/625 [==============================] - 21s 33ms/step - loss: 187.8832 - mae: 0.1109 - val_loss: 188.3375 - val_mae: 0.1228\n",
            "Epoch 150/160\n",
            "625/625 [==============================] - 21s 33ms/step - loss: 187.8218 - mae: 0.1108 - val_loss: 188.2585 - val_mae: 0.1225\n",
            "Epoch 151/160\n",
            "625/625 [==============================] - 21s 33ms/step - loss: 187.7618 - mae: 0.1103 - val_loss: 188.1821 - val_mae: 0.1249\n",
            "Epoch 152/160\n",
            "625/625 [==============================] - 21s 33ms/step - loss: 187.6973 - mae: 0.1101 - val_loss: 188.1248 - val_mae: 0.1227\n",
            "Epoch 153/160\n",
            "625/625 [==============================] - 21s 33ms/step - loss: 187.6222 - mae: 0.1094 - val_loss: 188.0951 - val_mae: 0.1240\n",
            "Epoch 154/160\n",
            "625/625 [==============================] - 21s 33ms/step - loss: 187.5716 - mae: 0.1097 - val_loss: 188.0599 - val_mae: 0.1238\n",
            "Epoch 155/160\n",
            "625/625 [==============================] - 21s 33ms/step - loss: 187.5005 - mae: 0.1084 - val_loss: 187.9712 - val_mae: 0.1214\n",
            "Epoch 156/160\n",
            "625/625 [==============================] - 21s 33ms/step - loss: 187.4345 - mae: 0.1085 - val_loss: 187.9758 - val_mae: 0.1223\n",
            "Epoch 157/160\n",
            "625/625 [==============================] - 21s 33ms/step - loss: 187.3727 - mae: 0.1077 - val_loss: 187.9403 - val_mae: 0.1234\n",
            "Epoch 158/160\n",
            "625/625 [==============================] - 21s 33ms/step - loss: 187.3053 - mae: 0.1075 - val_loss: 187.9481 - val_mae: 0.1244\n",
            "Epoch 159/160\n",
            "625/625 [==============================] - 21s 33ms/step - loss: 187.2531 - mae: 0.1075 - val_loss: 187.7982 - val_mae: 0.1243\n",
            "Epoch 160/160\n",
            "625/625 [==============================] - 21s 33ms/step - loss: 187.1822 - mae: 0.1071 - val_loss: 187.6806 - val_mae: 0.1200\n"
          ]
        },
        {
          "output_type": "execute_result",
          "data": {
            "text/plain": [
              "<keras.callbacks.History at 0x7fea0adb79d0>"
            ]
          },
          "metadata": {},
          "execution_count": 17
        }
      ]
    },
    {
      "cell_type": "code",
      "source": [
        "# Save the weights of the trained model \n",
        "\n",
        "# model.save_weights(MODELS_PATH+'BNN_network__COSMOGRID_weights.h5',overwrite=True) \n",
        "model.save_weights(MODELS_PATH+'BNN_network__COSMOGRID_weights_NOISY.h5',overwrite=True)"
      ],
      "metadata": {
        "id": "cPyO_boHEw22"
      },
      "execution_count": 18,
      "outputs": []
    },
    {
      "cell_type": "markdown",
      "source": [
        "Make a plot of the training history."
      ],
      "metadata": {
        "id": "BtNVT65gEw9S"
      }
    },
    {
      "cell_type": "code",
      "source": [
        "history_dict = model.history.history\n",
        "\n",
        "train_mae = history_dict['mae']\n",
        "val_mae = history_dict['val_mae']"
      ],
      "metadata": {
        "id": "x5M3XXi0ExGX"
      },
      "execution_count": 19,
      "outputs": []
    },
    {
      "cell_type": "code",
      "source": [
        "Epochs_sp = np.arange(1,EPOCHS+1,1)\n",
        "\n",
        "# ==============================================================================\n",
        "# ==============================================================================\n",
        "\n",
        "plt.figure(figsize=(7.2, 6.0))\n",
        "\n",
        "# Plot MAE\n",
        "plt.plot(Epochs_sp, train_mae, c = 'mediumblue',linewidth=2.5,label='Training MAE')\n",
        "plt.plot(Epochs_sp, val_mae, c = 'dodgerblue',linewidth=2.5,label='Validation MAE')\n",
        "\n",
        "# ==========================================\n",
        "# ==========================================\n",
        "plt.grid(ls='--',alpha=0.6)\n",
        "plt.xlabel('Epoch', fontsize=20);plt.ylabel('MAE',fontsize=20)\n",
        "plt.legend(frameon=True, loc='upper right', fontsize=17)\n",
        "plt.tick_params(axis='both', labelsize=14.5)\n",
        "\n",
        "#plt.xlim(20,)\n",
        "#plt.ylim(0.0,0.5)\n",
        "\n",
        "# Save figure - change name\n",
        "plt.savefig(PLT_PATH+\"MAE_COSMOGRID_NOISY.pdf\")\n",
        "#plt.savefig(PLT_PATH+\"MAE_COSMOGRID.pdf\")\n",
        "plt.show()"
      ],
      "metadata": {
        "id": "gEhRRjFOExOq",
        "colab": {
          "base_uri": "https://localhost:8080/",
          "height": 560
        },
        "outputId": "cf0c38c8-96d3-4694-fb45-5efdb1977505"
      },
      "execution_count": 20,
      "outputs": [
        {
          "output_type": "display_data",
          "data": {
            "text/plain": [
              "<Figure size 720x600 with 1 Axes>"
            ],
            "image/png": "[encoded data removed]"
          },
          "metadata": {}
        }
      ]
    },
    {
      "cell_type": "markdown",
      "source": [
        "### Make predictions on a part of the test set"
      ],
      "metadata": {
        "id": "zBpFy_neH8nw"
      }
    },
    {
      "cell_type": "code",
      "source": [
        "# Keep the first 1000 examples\n",
        "n_test = 1000\n",
        "\n",
        "X_keep = X_test[:n_test]\n",
        "y_keep = y_test[:n_test]\n",
        "y_keep_sc = y_test_sc[:n_test]"
      ],
      "metadata": {
        "id": "5yotNcgoH9Bm"
      },
      "execution_count": 21,
      "outputs": []
    },
    {
      "cell_type": "markdown",
      "source": [
        "**This may take a few minutes to run:**"
      ],
      "metadata": {
        "id": "ogGwnmfEJx31"
      }
    },
    {
      "cell_type": "code",
      "source": [
        "pred_dist = model(X_keep)\n",
        "sample = np.asarray(pred_dist.sample(300))\n",
        "\n",
        "#print(np.shape(sample))\n",
        "\n",
        "n_rands = 100\n",
        "\n",
        "\n",
        "for i in range(n_rands):\n",
        "  print(i)\n",
        "  pred_dist = model(X_keep)\n",
        "  sample_loc = np.asarray(pred_dist.sample(300))\n",
        "  sample = np.concatenate((sample,sample_loc))"
      ],
      "metadata": {
        "id": "nBd4ZVJRH9Wh",
        "colab": {
          "base_uri": "https://localhost:8080/"
        },
        "outputId": "ecfce0a0-2948-41aa-b363-3d6cd02123a5"
      },
      "execution_count": 22,
      "outputs": [
        {
          "output_type": "stream",
          "name": "stdout",
          "text": [
            "0\n",
            "1\n",
            "2\n",
            "3\n",
            "4\n",
            "5\n",
            "6\n",
            "7\n",
            "8\n",
            "9\n",
            "10\n",
            "11\n",
            "12\n",
            "13\n",
            "14\n",
            "15\n",
            "16\n",
            "17\n",
            "18\n",
            "19\n",
            "20\n",
            "21\n",
            "22\n",
            "23\n",
            "24\n",
            "25\n",
            "26\n",
            "27\n",
            "28\n",
            "29\n",
            "30\n",
            "31\n",
            "32\n",
            "33\n",
            "34\n",
            "35\n",
            "36\n",
            "37\n",
            "38\n",
            "39\n",
            "40\n",
            "41\n",
            "42\n",
            "43\n",
            "44\n",
            "45\n",
            "46\n",
            "47\n",
            "48\n",
            "49\n",
            "50\n",
            "51\n",
            "52\n",
            "53\n",
            "54\n",
            "55\n",
            "56\n",
            "57\n",
            "58\n",
            "59\n",
            "60\n",
            "61\n",
            "62\n",
            "63\n",
            "64\n",
            "65\n",
            "66\n",
            "67\n",
            "68\n",
            "69\n",
            "70\n",
            "71\n",
            "72\n",
            "73\n",
            "74\n",
            "75\n",
            "76\n",
            "77\n",
            "78\n",
            "79\n",
            "80\n",
            "81\n",
            "82\n",
            "83\n",
            "84\n",
            "85\n",
            "86\n",
            "87\n",
            "88\n",
            "89\n",
            "90\n",
            "91\n",
            "92\n",
            "93\n",
            "94\n",
            "95\n",
            "96\n",
            "97\n",
            "98\n",
            "99\n"
          ]
        }
      ]
    },
    {
      "cell_type": "markdown",
      "source": [
        "Now these results are normalized, invert them to get the real cosmological parameters."
      ],
      "metadata": {
        "id": "RZ1KFBbZKCuC"
      }
    },
    {
      "cell_type": "code",
      "source": [
        "inv_sample = []\n",
        "\n",
        "for i in range(n_test):\n",
        "  inv_sample_loc = scaler.inverse_transform(sample[:,i,:])\n",
        "  inv_sample.append(inv_sample_loc)"
      ],
      "metadata": {
        "id": "a02nfc52Cnn6"
      },
      "execution_count": 23,
      "outputs": []
    },
    {
      "cell_type": "code",
      "source": [
        "#np.save(MODELS_PATH+\"samples_test_BNN.npy\",inv_sample)\n",
        "np.save(MODELS_PATH+\"samples_test_BNN_NOISY.npy\",inv_sample)"
      ],
      "metadata": {
        "id": "nnsne1dvKAiB"
      },
      "execution_count": 24,
      "outputs": []
    },
    {
      "cell_type": "code",
      "source": [],
      "metadata": {
        "id": "yVdY2jO3KA14"
      },
      "execution_count": null,
      "outputs": []
    },
    {
      "cell_type": "code",
      "source": [],
      "metadata": {
        "id": "Tvd2RBWQK55k"
      },
      "execution_count": null,
      "outputs": []
    },
    {
      "cell_type": "code",
      "source": [],
      "metadata": {
        "id": "cxHTa0nDK6EL"
      },
      "execution_count": null,
      "outputs": []
    }
  ]
}